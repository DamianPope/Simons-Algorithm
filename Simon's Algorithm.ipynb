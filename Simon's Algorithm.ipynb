{
 "cells": [
  {
   "cell_type": "markdown",
   "id": "d6aba2e1",
   "metadata": {},
   "source": [
    "${\\bf Simon's \\, Algorithm}$<br><br>\n",
    "Imagine that a large number of people are lined up in a row. Also, that they’re spaced out really far from each other. They're so far apart that you can only clearly see one person at a time. \n",
    "\n",
    "Also imagine that each person has an identical twin who’s located somewhere else in the line. And, the number of people between each pair of twins is the same. For example, there might be 10 other people in between every pair of twins.\n",
    "\n",
    "How could you figure out what the hidden amount of spacing is? You could start at the first person and then look down the line, one person at a time, until you found someone who looked exactly like the first person. But, that would be time consuming. It'd be nice if there was a faster way to find the spacing. \n",
    "\n",
    "This problem is actually related to (but is <i>not</i> identical to) an important early quantum algorithm: Simon's algorithm. It was created by Daniel Simon in 1994. It was the first ever quantum alogrithm that performed <i>exponentially better</i> than the best classical algorithm for the same problem. It also inspired Peter Shor to come up with his famous factoring algorithm (i.e., Shor's algorithm). The publication of Shor's algorithm led to an explosion in the growth of quantum computing. So, Simon's algorithm holds a special place in the history of quantum computing.  "
   ]
  },
  {
   "cell_type": "markdown",
   "id": "ab3a8ff0",
   "metadata": {},
   "source": [
    "This notebook explains Simon's algorithm. It adds to the many excellent explanations that are already out there. For example, \n",
    "<a href=\"https://learn.qiskit.org/course/ch-algorithms/simons-algorithm\">IBM Qiskit's explanation</a>, <a href=\"https://aws.amazon.com/blogs/quantum-computing/simons-algorithm/\">AWS's explanation</a> (with Daniel Simon himself), and <a href=\"https://cs.uwaterloo.ca/~watrous/QC-notes/QC-notes.06.pdf\">this explanation</a> from Professor John Watrous of the University of Waterloo."
   ]
  },
  {
   "cell_type": "markdown",
   "id": "51d38533",
   "metadata": {},
   "source": [
    "The explanation below assumes a prior knowledge of the following concepts:\n",
    "- statevectors\n",
    "- measurement postulate in quantum physics\n",
    "- Hadamard gate\n",
    "- concept of an oracle"
   ]
  },
  {
   "cell_type": "markdown",
   "id": "f889f655",
   "metadata": {},
   "source": [
    "${\\bf What}$  ${\\bf problem}$ ${\\bf does}$   ${\\bf Simon's}$  ${\\bf algorithm}$  ${\\bf solve?}$ "
   ]
  },
  {
   "cell_type": "markdown",
   "id": "e147c554",
   "metadata": {},
   "source": [
    "Consider a function $f(x)$ that maps an $n$-bit string to another $n$-bit string, $f \\colon \\{ 0,1 \\}^{n} \\rightarrow \\{ 0,1 \\}^{n} $ \n",
    "\n",
    "The function $f$ is 2:1. That is, for each output, there are two different inputs that yield this output. Furthermore, these two inputs, $a$ and $b$, are related via the following mathematical rule:\n",
    "$b = a \\oplus s$, where $s$ is a $n$-bit string.\n",
    "Note that $\\oplus$ means bitwise addition modulo 2. That is, for the bit strings $c = c_{0} c_{1} ... c_{n}$ and $d=d_{0} d_{1} ... d_{n}$, $c \\oplus d = \\bigl( (c_{0} + d_{0}) {\\rm mod} \\, 2\\bigr) \\, \\bigl( (c_{1} + d_{1}) {\\rm mod} \\, 2\\bigr)... \\bigl( (c_{n} + d_{n}) {\\rm mod} \\, 2\\bigr)$  \n",
    "\n",
    "For example, for $n=2$ and $s=01$, we have\n",
    "\n",
    "$00 \\oplus 01 = 01$ and so $f(00) = f(01)$\n",
    "\n",
    "and $10 \\oplus 11 = 01$ and so $f(10) = f(11)$.\n",
    "\n",
    "Assume what we don't know the value of $s$. Also, that we have in front of us a black box that we can input any $n$-bit string, $x$, into and have it output the value of $f(x)$. What's the most efficient way to determine $s$? And, how many times do we need to query the black box?\n",
    "\n",
    "Classically, about the best we can do is to calculate $f(x)$ for some value of $x$ and then input other bit strings, one by one, until the black box outputs the same value as it did initially. In the worst case scenario, we need to try just over half of the inputs, $2^{n-1}+1$, until $f(x)$ returns the same value. We can actually do a bit better than this but, still, the best possible classical algorithm scales exponentially with the number of input bits, $\\Omega(2^{n/2})$. "
   ]
  },
  {
   "cell_type": "markdown",
   "id": "023787f6",
   "metadata": {},
   "source": [
    "${\\bf Quantum}$  ${\\bf Solution}$ ${\\bf to}$   ${\\bf Simon's}$  ${\\bf problem}$ <br>\n",
    "Simon's algorithm involve two computing registers, an input register and an output one. We'll show the quantum state of the input register first and the state of the output register second. For example, "
   ]
  },
  {
   "cell_type": "markdown",
   "id": "f89b81ce",
   "metadata": {},
   "source": [
    "$|\\psi \\rangle = |\\psi_{1} \\rangle |\\psi_{2} \\rangle$"
   ]
  },
  {
   "cell_type": "markdown",
   "id": "a917bd72",
   "metadata": {},
   "source": [
    "means that the input register in the state $|\\psi_{1} \\rangle$ and the output register in the state $|\\psi_{2} \\rangle$."
   ]
  },
  {
   "cell_type": "markdown",
   "id": "17ca3bbb",
   "metadata": {},
   "source": [
    "<b>STEP 1</b> <br> \n",
    "Apply a Hadamard gate to each qubit in the input register. <br>\n",
    "$|\\psi \\rangle = \\Bigl( H^{\\otimes n} |0 \\rangle^{\\otimes n} \\Bigr) |0 \\rangle^{\\otimes n}$\n",
    "\n",
    "$|\\psi \\rangle = \\frac{1}{\\sqrt{2^{n}}} \\Bigl( ( |0 \\rangle + |1 \\rangle)  ( |0 \\rangle + |1 \\rangle) ... ( |0 \\rangle + |1 \\rangle)\\Bigr)|0 \\rangle^{\\otimes n}$\n",
    "\n",
    "$= \\frac{1}{\\sqrt{2^{n}}}\\Bigl( |000...0 \\rangle  + |000...1 \\rangle + |000...10 \\rangle + ... | 111....1 \\rangle \\Bigr) |0 \\rangle^{\\otimes n}$"
   ]
  },
  {
   "cell_type": "markdown",
   "id": "b002a64b",
   "metadata": {},
   "source": [
    "It's cumbersome to write down (and read) the values of all the qubits. So, we'll switch to a more compact representation. \n",
    "\n",
    "${\\bf Converting}$  ${\\bf from}$ ${\\bf Binary}$   ${\\bf Representation}$  ${\\bf to}$  ${\\bf Decimal}$ ${\\bf Representation}$\n",
    "\n",
    "Each string of $n$ qubit values above is a binary number with $n$ binary digits. If we switch from a binary representation to a decimal one, the representaton of $|\\psi \\rangle$ becomes more compact and easier to grasp. \n",
    "\n",
    "This yields\n",
    "\n",
    "$|\\psi \\rangle = \\frac{1}{\\sqrt{2^{n}}} \\Sigma_{x=0}^{2^{n}-1}  |x \\rangle |0 \\rangle$\n",
    "\n",
    "The variable $x$ is a decimal number that represents a $n$-bit binary number. For example, when $n$=3, $x=2$ represents the bit string 010 ($\\equiv 2$).\n"
   ]
  },
  {
   "cell_type": "markdown",
   "id": "c8c77f82",
   "metadata": {},
   "source": [
    "<b>STEP 2</b> <br> \n",
    "Apply the oracle using the input register as the input and writing the output to the output register."
   ]
  },
  {
   "cell_type": "markdown",
   "id": "1f510125",
   "metadata": {},
   "source": [
    "$|\\psi \\rangle = \\frac{1}{\\sqrt{2^{n}}} \\Sigma_{x=0}^{2^{n}-1} |x \\rangle ) |f(x) \\rangle$ "
   ]
  },
  {
   "cell_type": "markdown",
   "id": "735cdafc",
   "metadata": {},
   "source": [
    "<b>STEP 3</b> <br> \n",
    "Measure the output register. You'll get a particular value $f(x)$. But, it doesn't matter which one you get.<br><br>\n",
    "Because $f$ is a 2:1 function, two different inputs will both yield the value of $f(x)$ that we measure. Let's call these inputs $a$ and $b$. The input register then becomes <br>\n",
    "$|a \\rangle + | b \\rangle$"
   ]
  },
  {
   "cell_type": "markdown",
   "id": "7f01f8d1",
   "metadata": {},
   "source": [
    "<b>STEP 4</b> <br> Apply a Hadamard gate to each qubit in the first register. This gives"
   ]
  },
  {
   "cell_type": "markdown",
   "id": "fcce2091",
   "metadata": {},
   "source": [
    "$H^{\\otimes n} \\left( |a \\rangle + | b \\rangle \\right)$"
   ]
  },
  {
   "cell_type": "markdown",
   "id": "596d4cf8",
   "metadata": {},
   "source": [
    "Converting $|a\\rangle$ and $|b\\rangle$ back to a binary representation yields"
   ]
  },
  {
   "cell_type": "markdown",
   "id": "1c93deae",
   "metadata": {},
   "source": [
    "$H^{\\otimes n} \\left( | a_{0} \\rangle | a_{1} \\rangle | a_{2} \\rangle ... | a_{n-1} \\rangle \\right) + H^{\\otimes n} \\left( | b_{0} \\rangle | b_{1} \\rangle | b_{2} \\rangle ... | b_{n-1} \\rangle \\right)$"
   ]
  },
  {
   "cell_type": "markdown",
   "id": "16969403",
   "metadata": {},
   "source": [
    "where $a_{i} (b_{i})$, for $i$ = 0 ... $n$-1 is the $i^{\\rm th}$ binary digit in the binary representation of $a$ ($b$) "
   ]
  },
  {
   "cell_type": "markdown",
   "id": "f0186ba9",
   "metadata": {},
   "source": [
    "Now, $H | 0 \\rangle = \\frac{1}{\\sqrt{2}} (|0\\rangle + | 1 \\rangle)$"
   ]
  },
  {
   "cell_type": "markdown",
   "id": "fa417dda",
   "metadata": {},
   "source": [
    "and"
   ]
  },
  {
   "cell_type": "markdown",
   "id": "73f76a02",
   "metadata": {},
   "source": [
    "$H | 1 \\rangle = \\frac{1}{\\sqrt{2}} (|0\\rangle - | 1 \\rangle)$"
   ]
  },
  {
   "cell_type": "markdown",
   "id": "5f7e719e",
   "metadata": {},
   "source": [
    "So, we only get a minus sign in front of a qubit statevector when:\n",
    "1. the statevector prior to applying the Hadamard gate is $| 1 \\rangle$ and\n",
    "2. the final qubit statevector is $| 1 \\rangle$"
   ]
  },
  {
   "cell_type": "markdown",
   "id": "baa67d58",
   "metadata": {},
   "source": [
    "To represent this behaviour compactly, consider the binary operation called the bitwise dot product:<br>\n",
    "$e \\cdot f = \\bigl( e_{0} \\times f_{0} + e_{1} \\times f_{1} ... + e_{n-1} \\times f_{n-1} \\bigr) ({\\rm mod}\\, 2)$, where $e$ and $f$ are both bit strings.\n",
    "\n",
    "The above behaviour with the Hadamard gate and minus signs mirrors the behaviour of the bitwise dot product as<br>\n",
    "$\\bigl($ qubit value (initial) $\\cdot$ qubit value (final) $\\bigr)$ <br> \n",
    "yields <br>\n",
    "0 $\\cdot$ 0 = 0 <br>\n",
    "0 $\\cdot$ 1 = 0 <br>\n",
    "1 $\\cdot$ 0 = 0 <br>\n",
    "1 $\\cdot$ 1 = 1 \n",
    "   \n",
    "So, the state of the input register becomes"
   ]
  },
  {
   "cell_type": "markdown",
   "id": "aa380a3a",
   "metadata": {},
   "source": [
    "$\\frac{1}{\\sqrt{2^{n}}} \\Sigma_{x=0}^{2^{n}-1} \\left( (-1)^{a \\cdot x} +  (-1)^{b \\cdot x}  \\right)  |x \\rangle$ "
   ]
  },
  {
   "cell_type": "markdown",
   "id": "cd9c997f",
   "metadata": {},
   "source": [
    "Note that the coefficient $\\bigl( (-1)^{a \\cdot x} +  (-1)^{b \\cdot x} \\bigr)$ is only non-zero when $a . x  = b.z$. That is, when there's constructive interference involving the two coefficients."
   ]
  },
  {
   "cell_type": "markdown",
   "id": "4de63fdb",
   "metadata": {},
   "source": [
    "<b>STEP 5</b> <br>\n",
    "Measure all the qubits in the input register.\n",
    "Let the measured value that we get be $z_{meas}$. From the property of the coefficients indentified at the end of Step 4, we know that $a.z_{meas} = b.z_{meas}$\n",
    "\n",
    "But, as $b = a \\oplus s$\n",
    "\n",
    "$a.z_{meas} = (a \\oplus s).z_{meas}$\n",
    "\n",
    "Expanding the brackets on the right-hand side gives <br>\n",
    "$a.z_{meas} = a.z_{meas} \\oplus s.z_{meas}$\n",
    "\n",
    "Subtracting $a.z_{meas}$ from both sides gives <br> \n",
    "$s \\cdot z_{meas} = 0 \\; ({\\rm mod} \\; 2)$. \n",
    "\n",
    "If we repeat all five steps approximately $n$ times, there's a reasonable chance that we'll measure different values for $z_{\\rm meas}$ each time. This will give us a system of $n$ simultaneous linear equations that we can then solve. \n",
    "This is Simon's algorithm. It solves the problem in $O(n)$ computations.\n",
    "Recall that the best classical algorithm takes $\\Omega \\bigl( {\\rm exp}(n/2) \\bigr)$ computations.\n",
    "\n",
    "The difference between these two functions is the expontential gap mentioned at the start.\n",
    "\n",
    "Simon's algorithm is exponentially more efficient than you can do classically."
   ]
  },
  {
   "cell_type": "markdown",
   "id": "ebd8b987",
   "metadata": {},
   "source": [
    "Note that, technically, in the statement of the problem that Simon's algorithm solves, $f$ is either a 2:1 function ${\\it or}$ a 1:1 function. This doesn't make much difference though as we can consider the 1:1 case as one where $s=0$."
   ]
  },
  {
   "cell_type": "markdown",
   "id": "f7076505",
   "metadata": {},
   "source": [
    "${\\bf Qiskit \\ code \\ for \\ Running \\ Simon's \\ Algorithm}$\n",
    "\n",
    "${\\bf Note:}$ This code creates and runs a quantum circuit that produces ${\\it one}$ equation of the form $s \\cdot z_{meas} = 0$. To run the full algorithm, you need to run it $O(n)$ times to generate $n$ the set of $n$ simultaneous equations mentioned earlier."
   ]
  },
  {
   "cell_type": "code",
   "execution_count": 8,
   "id": "27ad933a",
   "metadata": {},
   "outputs": [
    {
     "name": "stdout",
     "output_type": "stream",
     "text": [
      "s= 01 (unknown string)\n",
      "\n",
      "counts= {'0101': 1}\n",
      "\n",
      "String measured in input registers:\n",
      "z_meas =  1 0\n",
      "(Note that the first bit in z_meas is the value measured for qubit 0 (i.e., the first qubit).\n",
      " The second bit in z_meas is the value measured for qubit 1.)\n"
     ]
    }
   ],
   "source": [
    "'''\n",
    "This code implements Simon's algorithm in Qiskit for two qubits.\n",
    "'''\n",
    "\n",
    "from qiskit import QuantumCircuit, execute, Aer, QuantumRegister,ClassicalRegister\n",
    "\n",
    "#define the hidden \"period\"\n",
    "s = '01'\n",
    "print(\"s=\",s,\"(unknown string)\\n\")\n",
    "\n",
    "n = len(s)\n",
    "simons_circuit = QuantumCircuit(2*n, 2*n)\n",
    "\n",
    "#STEP 1: Apply Hadamard gates to input register\n",
    "simons_circuit.h(range(n))    \n",
    "\n",
    "#STEP 2: apply oracle to circuit\n",
    "#this oracle implement the 2:1 function f(x): f(00) = f(01) = 00 and f(10) = f(11) = 10\n",
    "simons_circuit.cnot(0,2)\n",
    "\n",
    "#STEP 3: Measure both qubits in the output register & store results in the classical register\n",
    "simons_circuit.measure(range(n,2*n), range(n,2*n))\n",
    "\n",
    "#STEP 4: Apply second set of Hadamard gates to input register\n",
    "simons_circuit.h(range(n))\n",
    "\n",
    "#STEP 5\n",
    "#Measure input qubits and store the results in classical register\n",
    "simons_circuit.measure(range(n), range(n))\n",
    "\n",
    "#define a backend & run quantum circuit on it\n",
    "backend = Aer.get_backend('qasm_simulator')\n",
    "job = execute(simons_circuit, backend, shots=1)\n",
    "result = job.result()\n",
    "counts = result.get_counts(simons_circuit)\n",
    "\n",
    "print(\"counts=\",counts,)\n",
    "\n",
    "measured_input_string = counts.keys()\n",
    "\n",
    "print(\"\\nString measured in input registers:\")\n",
    "print(\"z_meas = \",list(measured_input_string)[0][3],list(measured_input_string)[0][2])\n",
    "print(\"(Note that the first bit in z_meas is the value measured for qubit 0 (i.e., the first qubit).\\n The second bit in z_meas is the value measured for qubit 1.)\")"
   ]
  },
  {
   "cell_type": "code",
   "execution_count": null,
   "id": "d9eb5f5b",
   "metadata": {},
   "outputs": [],
   "source": []
  }
 ],
 "metadata": {
  "kernelspec": {
   "display_name": "Python 3 (ipykernel)",
   "language": "python",
   "name": "python3"
  },
  "language_info": {
   "codemirror_mode": {
    "name": "ipython",
    "version": 3
   },
   "file_extension": ".py",
   "mimetype": "text/x-python",
   "name": "python",
   "nbconvert_exporter": "python",
   "pygments_lexer": "ipython3",
   "version": "3.9.12"
  }
 },
 "nbformat": 4,
 "nbformat_minor": 5
}
